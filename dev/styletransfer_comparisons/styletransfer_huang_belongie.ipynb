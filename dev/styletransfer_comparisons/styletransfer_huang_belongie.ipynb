{
  "nbformat": 4,
  "nbformat_minor": 0,
  "metadata": {
    "colab": {
      "name": "styletransfer_huang_belongie.ipynb",
      "provenance": [],
      "collapsed_sections": [],
      "authorship_tag": "ABX9TyNM8oR3mKMBAtxVqOGbcxlg"
    },
    "kernelspec": {
      "name": "python3",
      "display_name": "Python 3"
    },
    "accelerator": "GPU"
  },
  "cells": [
    {
      "cell_type": "code",
      "metadata": {
        "id": "Z2e2CcE_JBZo",
        "outputId": "35e0a863-89c8-427d-cee0-1bb1169eaa90",
        "colab": {
          "base_uri": "https://localhost:8080/",
          "height": 34
        }
      },
      "source": [
        "#COLAB\n",
        "from google.colab import drive\n",
        "drive.mount('/content/gdrive')"
      ],
      "execution_count": 1,
      "outputs": [
        {
          "output_type": "stream",
          "text": [
            "Mounted at /content/gdrive\n"
          ],
          "name": "stdout"
        }
      ]
    },
    {
      "cell_type": "code",
      "metadata": {
        "id": "gaqShBxqJGAT",
        "outputId": "75852d24-073c-4935-e92a-2c7282ee355c",
        "colab": {
          "base_uri": "https://localhost:8080/",
          "height": 255
        }
      },
      "source": [
        "\n",
        "#STYLE TRANSFER - HUANG BELONGIE OPEN SOUCE\n",
        "\n",
        "\n",
        "#CLONE OPEN SOURCE CODE FROM GITHUB\n",
        "!git clone https://github.com/naoto0804/pytorch-AdaIN\n",
        "\n",
        "#CLONE DIRECTORY STRUCTURE\n",
        "!git clone https://github.com/jonthum/AiPainter\n",
        "\n",
        "%cd pytorch-AdaIN\n",
        "\n",
        "#DOWNLOAD MODELS\n",
        "!gdown --id 1bZkGcEoaqjNW22Jnlx1hKRq3b3reG6YZ -q\n",
        "!gdown --id 1shi0YZxJExZSFBzYKxl7gDDi_MTdN4vE -q\n",
        "\n",
        "\n",
        "\n"
      ],
      "execution_count": 2,
      "outputs": [
        {
          "output_type": "stream",
          "text": [
            "Cloning into 'pytorch-AdaIN'...\n",
            "remote: Enumerating objects: 1, done.\u001b[K\n",
            "remote: Counting objects: 100% (1/1), done.\u001b[K\n",
            "remote: Total 259 (delta 0), reused 0 (delta 0), pack-reused 258\u001b[K\n",
            "Receiving objects: 100% (259/259), 7.77 MiB | 10.34 MiB/s, done.\n",
            "Resolving deltas: 100% (126/126), done.\n",
            "Cloning into 'AiPainter'...\n",
            "remote: Enumerating objects: 385, done.\u001b[K\n",
            "remote: Counting objects: 100% (385/385), done.\u001b[K\n",
            "remote: Compressing objects: 100% (291/291), done.\u001b[K\n",
            "remote: Total 385 (delta 147), reused 297 (delta 91), pack-reused 0\u001b[K\n",
            "Receiving objects: 100% (385/385), 33.57 MiB | 19.40 MiB/s, done.\n",
            "Resolving deltas: 100% (147/147), done.\n",
            "/content/pytorch-AdaIN\n"
          ],
          "name": "stdout"
        }
      ]
    },
    {
      "cell_type": "code",
      "metadata": {
        "id": "VyVWNyqgGN_s"
      },
      "source": [
        "\n",
        "#RUN STYLE TRANSFER\n",
        "!python test.py --decoder decoder.pth --vgg vgg_normalised.pth \\\n",
        "--content_size 525 \\\n",
        "--style_size 1024 \\\n",
        "--content '/content/AiPainter/images/content/avril.jpg' \\\n",
        "--style '/content/AiPainter/images/style/la_muse.jpg' \\\n",
        "--output '/content/AiPainter/images/results'\n",
        "\n"
      ],
      "execution_count": 3,
      "outputs": []
    }
  ]
}
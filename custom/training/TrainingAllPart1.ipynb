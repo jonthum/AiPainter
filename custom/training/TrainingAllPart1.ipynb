{
  "nbformat": 4,
  "nbformat_minor": 0,
  "metadata": {
    "colab": {
      "name": "TrainingAllPart1.ipynb",
      "provenance": [],
      "collapsed_sections": [],
      "machine_shape": "hm",
      "authorship_tag": "ABX9TyMWYaMuMSuCor+aQCfXLw62"
    },
    "kernelspec": {
      "name": "python3",
      "display_name": "Python 3"
    },
    "accelerator": "GPU"
  },
  "cells": [
    {
      "cell_type": "code",
      "metadata": {
        "id": "qi6k6Ufbx42A"
      },
      "source": [
        "#COLAB\n",
        "from google.colab import drive\n",
        "drive.mount('/content/gdrive')"
      ],
      "execution_count": null,
      "outputs": []
    },
    {
      "cell_type": "code",
      "metadata": {
        "id": "FMI0BJzJySuB"
      },
      "source": [
        "\n",
        "#STYLEGAN2 MODEL TRAINING - DATABASE ALL PART1\n",
        "#by JON THUM\n",
        "\n",
        "\n",
        "!git clone https://github.com/jonthum/AiPainter\n",
        "\n",
        "#COLAB ROOT DIRECTORY\n",
        "import sys\n",
        "ROOT_DIR = '/content/AiPainter/lib/stylegan2/'\n",
        "sys.path.append(ROOT_DIR)\n",
        "\n",
        "#OLD TENSORFLOW VERSION\n",
        "%tensorflow_version 1.x\n",
        "import tensorflow as tf\n",
        "print('Tensorflow version: {}'.format(tf.__version__) )\n",
        "\n",
        "#CHECK CUDA\n",
        "!nvidia-smi -L\n"
      ],
      "execution_count": null,
      "outputs": []
    },
    {
      "cell_type": "code",
      "metadata": {
        "id": "1hFSaNOoyzW2"
      },
      "source": [
        "#TRANSFER 'All Part1' DB\n",
        "!gdown --id 1nuRVMGKxxr3kOpuOO6bT2FXIgUuE0IOB\n",
        "!tar -xf all_part1.tgz\n",
        "\n",
        "TRANSFER LATEST MODEL network-snapshot-003384.pkl\n",
        "#!gdown --id  12QeRY5GdmLiI97tILtq-12yMlKoJ7e8B\n",
        "\n",
        "#TRANSFER MODEL network-snapshot-002657.pkl\n",
        "#!gdown --id  12e01hiWCNs_caWps29B7HdNx4b8OcUGP\n"
      ],
      "execution_count": null,
      "outputs": []
    },
    {
      "cell_type": "code",
      "metadata": {
        "id": "MeqLT1aCvyHM"
      },
      "source": [
        "#MAKE TENSORFLOW RECORDS\n",
        "!mkdir datasets\n",
        "%cd '/content/AiPainter/lib/stylegan2/'\n",
        "!python dataset_tool.py create_from_images /content/datasets/all_part1 /content/all_part1"
      ],
      "execution_count": null,
      "outputs": []
    },
    {
      "cell_type": "code",
      "metadata": {
        "id": "LMF-xHSpzWZP"
      },
      "source": [
        "\n",
        "#TRAIN - To speed up training change metric to 'None'\n",
        "!python run_training.py --num-gpus=1 --data-dir='/content/datasets/' --config=config-f \\\n",
        "--dataset=all_part1  --min-h=4 --min-w=4 --res-log2=8 --metric=fid50k \\\n",
        "--mirror-augment=True --mirror-augment-v=False --total-kimg=26000 \\\n",
        "--result-dir='/content/AiPainter/custom/training/data/all_part1' \\\n",
        "--resume-pkl '/content/network-snapshot-003384.pkl' #'latest'\n",
        "\n",
        "\n"
      ],
      "execution_count": null,
      "outputs": []
    }
  ]
}
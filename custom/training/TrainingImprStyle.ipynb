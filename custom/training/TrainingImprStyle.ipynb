{
  "nbformat": 4,
  "nbformat_minor": 0,
  "metadata": {
    "colab": {
      "name": "TrainingImprStyle.ipynb",
      "provenance": [],
      "collapsed_sections": [],
      "machine_shape": "hm",
      "authorship_tag": "ABX9TyMMk1Bc3xCRURdZ4vZbP8Ij"
    },
    "kernelspec": {
      "name": "python3",
      "display_name": "Python 3"
    },
    "accelerator": "GPU"
  },
  "cells": [
    {
      "cell_type": "code",
      "metadata": {
        "id": "qi6k6Ufbx42A",
        "outputId": "93250858-4883-4a74-8ae3-f9241aa57f05",
        "colab": {
          "base_uri": "https://localhost:8080/",
          "height": 35
        }
      },
      "source": [
        "#COLAB\n",
        "from google.colab import drive\n",
        "drive.mount('/content/gdrive')"
      ],
      "execution_count": null,
      "outputs": [
        {
          "output_type": "stream",
          "text": [
            "Mounted at /content/gdrive\n"
          ],
          "name": "stdout"
        }
      ]
    },
    {
      "cell_type": "code",
      "metadata": {
        "id": "FMI0BJzJySuB"
      },
      "source": [
        "\n",
        "#STYLEGAN2 MODEL TRAINING - DATABASE IMPRESSSIONIST\n",
        "#by JON THUM\n",
        "\n",
        "\n",
        "!git clone https://github.com/jonthum/AiPainter\n",
        "\n",
        "#COLAB ROOT DIRECTORY\n",
        "import sys\n",
        "ROOT_DIR = '/content/AiPainter/lib/stylegan2/'\n",
        "sys.path.append(ROOT_DIR)\n",
        "\n",
        "#OLD TENSORFLOW VERSION\n",
        "%tensorflow_version 1.x\n",
        "import tensorflow as tf\n",
        "print('Tensorflow version: {}'.format(tf.__version__) )\n",
        "\n",
        "#CHECK CUDA\n",
        "!nvidia-smi -L\n"
      ],
      "execution_count": null,
      "outputs": []
    },
    {
      "cell_type": "code",
      "metadata": {
        "id": "1hFSaNOoyzW2"
      },
      "source": [
        "#TRANSFER 'Impressionist Style' DB\n",
        "!gdown --id 1srZg72vbS7j41gtTxhz8wdmfiLjvLJLc\n",
        "!tar -xf impr_style.tgz\n",
        "\n",
        "#TRANSFER LATEST MODEL network-snapshot-000567.pkl\n",
        "!gdown --id  12PqPEPfFbKwbOETZ7EdABKOjdyLxcQI8\n",
        "\n",
        "#TRANSFER MODEL network-snapshot-000253.pkl\n",
        "#!gdown --id  11jsJHJgZAUhOSW7J3ri-8yaT8Vu0RO2Q\n"
      ],
      "execution_count": null,
      "outputs": []
    },
    {
      "cell_type": "code",
      "metadata": {
        "id": "MeqLT1aCvyHM"
      },
      "source": [
        "#MAKE TENSORFLOW RECORDS\n",
        "!mkdir datasets\n",
        "%cd '/content/AiPainter/lib/stylegan2/'\n",
        "!python dataset_tool.py create_from_images /content/datasets/impr_style /content/impr_style"
      ],
      "execution_count": null,
      "outputs": []
    },
    {
      "cell_type": "code",
      "metadata": {
        "id": "LMF-xHSpzWZP"
      },
      "source": [
        "#TRAIN - To speed up training change metric to 'None'\n",
        "!python run_training.py --num-gpus=1 --data-dir='/content/datasets/' --config=config-f \\\n",
        "--dataset=impr_style  --min-h=4 --min-w=4 --res-log2=8 --metric=fid50k \\\n",
        "--mirror-augment=True --mirror-augment-v=False --total-kimg=18000 \\\n",
        "--result-dir='/content/AiPainter/custom/training/data/impr_style' \\\n",
        "--resume-pkl '/content/network-snapshot-000567.pkl' #'latest'\n"
      ],
      "execution_count": null,
      "outputs": []
    }
  ]
}
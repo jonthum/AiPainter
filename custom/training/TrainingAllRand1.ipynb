{
  "nbformat": 4,
  "nbformat_minor": 0,
  "metadata": {
    "colab": {
      "name": "TrainingAllRand1.ipynb",
      "provenance": [],
      "collapsed_sections": [],
      "machine_shape": "hm",
      "authorship_tag": "ABX9TyMInA2umcIb+U7wyfUcLaay"
    },
    "kernelspec": {
      "name": "python3",
      "display_name": "Python 3"
    },
    "accelerator": "GPU"
  },
  "cells": [
    {
      "cell_type": "code",
      "metadata": {
        "id": "qi6k6Ufbx42A"
      },
      "source": [
        "#COLAB\n",
        "from google.colab import drive\n",
        "drive.mount('/content/gdrive')"
      ],
      "execution_count": null,
      "outputs": []
    },
    {
      "cell_type": "code",
      "metadata": {
        "id": "FMI0BJzJySuB"
      },
      "source": [
        "\n",
        "#STYLEGAN2 MODEL TRAINING - DATABASE ALL PART1 RANDOMLY CROPPED\n",
        "#by JON THUM\n",
        "\n",
        "\n",
        "!git clone https://github.com/jonthum/AiPainter\n",
        "\n",
        "#COLAB ROOT DIRECTORY\n",
        "import sys\n",
        "ROOT_DIR = '/content/AiPainter/lib/stylegan2/'\n",
        "sys.path.append(ROOT_DIR)\n",
        "\n",
        "#OLD TENSORFLOW VERSION\n",
        "%tensorflow_version 1.x\n",
        "import tensorflow as tf\n",
        "print('Tensorflow version: {}'.format(tf.__version__) )\n",
        "\n",
        "#IMPORT DATASET TOOLS\n",
        "from dataset_tool import TFRecordExporter\n",
        "import numpy as np\n",
        "import random\n",
        "import json\n",
        "from PIL import Image\n",
        "from PIL import ImageFilter\n",
        "\n",
        "#CHECK CUDA\n",
        "!nvidia-smi -L\n"
      ],
      "execution_count": null,
      "outputs": []
    },
    {
      "cell_type": "code",
      "metadata": {
        "id": "1hFSaNOoyzW2"
      },
      "source": [
        "#TRANSFER 'All Part1' DB\n",
        "!gdown --id 1nuRVMGKxxr3kOpuOO6bT2FXIgUuE0IOB\n",
        "!tar -xf all_part1.tgz\n",
        "\n",
        "#TRANSFER LATEST MODEL network-snapshot-003342.pkl\n",
        "!gdown --id  12K_gzHc8jQgyCL3YRZqCHmXtddU2XovP\n",
        "\n",
        "#TRANSFER JSON FILE\n",
        "!gdown --id  1Iq7wrumEvdx7ev9_G3FAKzQicGB_9SSx\n",
        "\n",
        "\n"
      ],
      "execution_count": null,
      "outputs": []
    },
    {
      "cell_type": "code",
      "metadata": {
        "id": "Yy1KOHpS9GSe"
      },
      "source": [
        "#LOAD FILES\n",
        "with open('filenames_all_part1.json') as json_file:\n",
        "    files = json.load(json_file)\n",
        "count = len(files)\n",
        "print(count)\n",
        "\n",
        "def rand_crop(img):\n",
        "    zoom = random.uniform(1, 1.15)\n",
        "    size = 1024/zoom\n",
        "    \n",
        "    mid = random.uniform(1,3)\n",
        "    std = random.uniform(2,6)\n",
        "    \n",
        "    randx = np.random.normal((1024-size)/mid,(1024-size)/std)\n",
        "    randx = int(np.clip(randx,0,(1024-size)))\n",
        "    \n",
        "    randy = np.random.normal((1024-size)/mid,(1024-size)/std)\n",
        "    randy = int(np.clip(randy,0,(1024-size)))\n",
        "    \n",
        "    crop = img.crop((randx, randy, randx+size, randy+size))\n",
        "    crop = crop.filter(ImageFilter.DETAIL)\n",
        "    \n",
        "    img = crop.resize((1024, 1024), Image.LANCZOS)\n",
        "    \n",
        "    return img\n",
        "\n",
        "    "
      ],
      "execution_count": null,
      "outputs": []
    },
    {
      "cell_type": "code",
      "metadata": {
        "id": "TarHErYp9MYi"
      },
      "source": [
        "#MAKE TENSORFLOW RECORDS\n",
        "\n",
        "tfrecord_dir = '/content/datasets/all_part1'\n",
        "\n",
        "with TFRecordExporter(tfrecord_dir, count) as tfr:\n",
        "    order = tfr.choose_shuffled_order()\n",
        "    for idx in range(order.size):\n",
        "        fn = files[idx]\n",
        "        img = Image.open(fn)\n",
        "        img = rand_crop(img)\n",
        "        img = np.transpose(np.array(img), (2, 0, 1))\n",
        "        tfr.add_image(np.array(img))\n",
        "\n"
      ],
      "execution_count": null,
      "outputs": []
    },
    {
      "cell_type": "code",
      "metadata": {
        "id": "LMF-xHSpzWZP"
      },
      "source": [
        "%cd '/content/AiPainter/lib/stylegan2/'\n",
        "\n",
        "#TRAIN - To speed up training change metric to 'None'\n",
        "!python run_training.py --num-gpus=1 --data-dir='/content/datasets/' --config=config-f \\\n",
        "--dataset=all_part1  --min-h=4 --min-w=4 --res-log2=8 --metric=fid50k \\\n",
        "--mirror-augment=True --mirror-augment-v=False --total-kimg=26000 \\\n",
        "--result-dir='/content/AiPainter/custom/training/data/all_rand1' \\\n",
        "--resume-pkl '/content/network-snapshot-003342.pkl' #'latest'\n"
      ],
      "execution_count": null,
      "outputs": []
    }
  ]
}
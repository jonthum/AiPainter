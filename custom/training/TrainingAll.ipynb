{
  "nbformat": 4,
  "nbformat_minor": 0,
  "metadata": {
    "colab": {
      "name": "TrainingAll.ipynb",
      "provenance": [],
      "collapsed_sections": [],
      "machine_shape": "hm",
      "authorship_tag": "ABX9TyN/+0xv2DYzOoRGpLKOOnWT"
    },
    "kernelspec": {
      "name": "python3",
      "display_name": "Python 3"
    },
    "accelerator": "GPU"
  },
  "cells": [
    {
      "cell_type": "code",
      "metadata": {
        "id": "qi6k6Ufbx42A"
      },
      "source": [
        "#COLAB\n",
        "from google.colab import drive\n",
        "drive.mount('/content/gdrive')"
      ],
      "execution_count": null,
      "outputs": []
    },
    {
      "cell_type": "code",
      "metadata": {
        "id": "FMI0BJzJySuB"
      },
      "source": [
        "\n",
        "#STYLEGAN2 MODEL TRANSFER TRAINING FROM FFHQ - ALTERNATING DATABASES ALL PART1 / ALL PART2\n",
        "#by JON THUM\n",
        "\n",
        "\n",
        "!git clone https://github.com/jonthum/AiPainter\n",
        "\n",
        "#COLAB ROOT DIRECTORY\n",
        "import sys\n",
        "ROOT_DIR = '/content/AiPainter/lib/stylegan2/'\n",
        "sys.path.append(ROOT_DIR)\n",
        "\n",
        "#OLD TENSORFLOW VERSION\n",
        "%tensorflow_version 1.x\n",
        "import tensorflow as tf\n",
        "print('Tensorflow version: {}'.format(tf.__version__) )\n",
        "\n",
        "#CHECK CUDA\n",
        "!nvidia-smi -L\n"
      ],
      "execution_count": null,
      "outputs": []
    },
    {
      "cell_type": "code",
      "metadata": {
        "id": "1hFSaNOoyzW2"
      },
      "source": [
        "#TRANSFER 'All Part1' DB\n",
        "!gdown --id 1nuRVMGKxxr3kOpuOO6bT2FXIgUuE0IOB\n",
        "!tar -xf all_part1.tgz\n",
        "\n",
        "#TRANSFER 'All Part2' DB\n",
        "#!gdown --id 1qVBJVX4qv6itoQX0_y8skClNK45ww20F\n",
        "#!tar -xf all_part2.tgz\n",
        "\n",
        "\n",
        "#TRANSFER LATEST MODEL network-snapshot-003544.pkl\n",
        "!gdown --id  12OavRHz7fs7YJiy4dbn4_fHrL8deU3cy\n",
        "\n",
        "#TRANSFER MODEL network-snapshot-002669.pkl\n",
        "#!gdown --id  11wQOHvm3UihwXETO3j-xBxePbS8D4juT\n",
        "\n",
        "#TRANSFER MODEL network-snapshot-001947.pkl\n",
        "#!gdown --id  12F4xRrgoBfZmOLZVtGwevsWZzANKp8bf\n",
        "\n",
        "#TRANSFER MODEL network-snapshot-001547.pkl\n",
        "#!gdown --id  11oSKIYlE1qa8orm5N39Sg6_kix-7BJ7_\n",
        "\n",
        "#TRANSFER MODEL network-snapshot-000456.pkl\n",
        "#!gdown --id  12R1LWX_u6l7P6YIFOPT-PCiZHBT81ljW\n"
      ],
      "execution_count": null,
      "outputs": []
    },
    {
      "cell_type": "code",
      "metadata": {
        "id": "MeqLT1aCvyHM"
      },
      "source": [
        "#MAKE TENSORFLOW RECORDS\n",
        "!mkdir datasets\n",
        "%cd '/content/AiPainter/lib/stylegan2/'\n",
        "!python dataset_tool.py create_from_images /content/datasets/all_part1 /content/all_part1"
      ],
      "execution_count": null,
      "outputs": []
    },
    {
      "cell_type": "code",
      "metadata": {
        "id": "LMF-xHSpzWZP"
      },
      "source": [
        "#TRAIN - To speed up training change metric to 'None'\n",
        "!python run_training.py --num-gpus=1 --data-dir='/content/datasets/' --config=config-f \\\n",
        "--dataset=all_part1  --min-h=4 --min-w=4 --res-log2=8 --metric=fid50k \\\n",
        "--mirror-augment=True --mirror-augment-v=False --total-kimg=26000 \\\n",
        "--result-dir='/content/AiPainter/custom/training/data/all' \\\n",
        "--resume-pkl '/content/network-snapshot-003544.pkl' #'latest'\n",
        "\n",
        "\n"
      ],
      "execution_count": null,
      "outputs": []
    }
  ]
}
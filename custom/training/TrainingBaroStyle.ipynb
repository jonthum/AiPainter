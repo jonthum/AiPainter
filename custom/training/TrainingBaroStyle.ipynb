{
  "nbformat": 4,
  "nbformat_minor": 0,
  "metadata": {
    "colab": {
      "name": "TrainingBaroStyle.ipynb",
      "provenance": [],
      "collapsed_sections": [],
      "machine_shape": "hm",
      "authorship_tag": "ABX9TyN+cnGypMFWh9SF1R4JkTY5"
    },
    "kernelspec": {
      "name": "python3",
      "display_name": "Python 3"
    },
    "accelerator": "GPU"
  },
  "cells": [
    {
      "cell_type": "code",
      "metadata": {
        "id": "qi6k6Ufbx42A"
      },
      "source": [
        "#COLAB\n",
        "from google.colab import drive\n",
        "drive.mount('/content/gdrive')"
      ],
      "execution_count": null,
      "outputs": []
    },
    {
      "cell_type": "code",
      "metadata": {
        "id": "FMI0BJzJySuB"
      },
      "source": [
        "\n",
        "#STYLEGAN2 MODEL TRAINING - DATABASE BAROQUE\n",
        "#by JON THUM\n",
        "\n",
        "\n",
        "!git clone https://github.com/jonthum/AiPainter\n",
        "\n",
        "#COLAB ROOT DIRECTORY\n",
        "import sys\n",
        "ROOT_DIR = '/content/AiPainter/lib/stylegan2/'\n",
        "sys.path.append(ROOT_DIR)\n",
        "\n",
        "#OLD TENSORFLOW VERSION\n",
        "%tensorflow_version 1.x\n",
        "import tensorflow as tf\n",
        "print('Tensorflow version: {}'.format(tf.__version__) )\n",
        "\n",
        "#CHECK CUDA\n",
        "!nvidia-smi -L\n"
      ],
      "execution_count": null,
      "outputs": []
    },
    {
      "cell_type": "code",
      "metadata": {
        "id": "1hFSaNOoyzW2"
      },
      "source": [
        "#TRANSFER 'Baroque Style' DB\n",
        "!gdown --id 1iJWda2toM-vAl1RlClcLJ5S8W9TPYj6t\n",
        "!tar -xf baro_style.tgz\n",
        "\n",
        "#TRANSFER LATEST MODEL network-snapshot-000418.pkl\n",
        "!gdown --id  158Xe7O78dESxOIGXmRv7zgRJqrO46e7x\n",
        "\n",
        "#TRANSFER MODEL network-snapshot-000252.pkl\n",
        "#!gdown --id  11SLyr0asPxZTrVKZlIjnws8qGxcUoo5n\n"
      ],
      "execution_count": null,
      "outputs": []
    },
    {
      "cell_type": "code",
      "metadata": {
        "id": "MeqLT1aCvyHM"
      },
      "source": [
        "#MAKE TENSORFLOW RECORDS\n",
        "!mkdir datasets\n",
        "%cd '/content/AiPainter/lib/stylegan2/'\n",
        "!python dataset_tool.py create_from_images /content/datasets/baro_style /content/baro_style"
      ],
      "execution_count": null,
      "outputs": []
    },
    {
      "cell_type": "code",
      "metadata": {
        "id": "LMF-xHSpzWZP"
      },
      "source": [
        "#TRAIN - To speed up training change metric to 'None'\n",
        "!python run_training.py --num-gpus=1 --data-dir='/content/datasets/' --config=config-f \\\n",
        "--dataset=baro_style  --min-h=4 --min-w=4 --res-log2=8 --metric=fid50k \\\n",
        "--mirror-augment=True --mirror-augment-v=False --total-kimg=9000 \\\n",
        "--result-dir='/content/AiPainter/custom/training/data/baro_style' \\\n",
        "--resume-pkl '/content/network-snapshot-000418.pkl' #'latest'"
      ],
      "execution_count": null,
      "outputs": []
    }
  ]
}